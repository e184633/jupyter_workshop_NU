{
 "cells": [
  {
   "cell_type": "markdown",
   "metadata": {},
   "source": [
    "# Dictionaries for counting words\n",
    "\n",
    "A common task in text processing is to produce a count of word\n",
    "frequencies. While NumPy has a builtin histogram function for doing\n",
    "numerical histograms, it won't work out of the box for counting discrete\n",
    "items, since it is a binning histogram for a range of real values.\n",
    "\n",
    "But the Python language provides very powerful string manipulation\n",
    "capabilities, as well as a very flexible and efficiently implemented\n",
    "builtin data type, the *dictionary*, that makes this task a very simple\n",
    "one.\n",
    "\n",
    "In this problem, you will need to count the frequencies of all the words\n",
    "contained in a compressed text file supplied as input. Load and read the\n",
    "data file `data/HISTORY.gz` (without uncompressing it on the filesystem\n",
    "separately), and then use a dictionary count the frequency of each word\n",
    "in the file. Then, display the 20 most and 20 least frequent words in\n",
    "the text.\n",
    "\n",
    "## Hints\n",
    "\n",
    "-   To read the compressed file `HISTORY.gz` without uncompressing it\n",
    "    first, see the [gzip module](https://docs.python.org/3/library/gzip.html).\n",
    "-   Consider 'words' as the result of splitting the input text into\n",
    "    a list, using any form of whitespace as a separator. This is\n",
    "    obviously a very naive definition of 'word', but it shall suffice\n",
    "    for the purposes of this exercise.\n",
    "-   Python strings have a `.split()` method that allows for very\n",
    "    flexible splitting. You can easily get more details on it in\n",
    "    IPython:\n",
    "\n",
    "\n",
    "```\n",
    "   In [2]: a = 'somestring'\n",
    "\n",
    "   In [3]: a.split?\n",
    "   Type:           builtin_function_or_method\n",
    "   Base Class:     <type 'builtin_function_or_method'>\n",
    "   Namespace:      Interactive\n",
    "   Docstring:\n",
    "       S.split([sep [,maxsplit]]) -> list of strings\n",
    "\n",
    "       Return a list of the words in the string S, using sep as the\n",
    "       delimiter string.  If maxsplit is given, at most maxsplit\n",
    "       splits are done. If sep is not specified or is None, any\n",
    "       whitespace string is a separator.\n",
    "```\n",
    "\n",
    "The complete set of methods of Python strings can be viewed by hitting\n",
    "the TAB key in IPython after typing `a.`, and each of them can be\n",
    "similarly queried with the `?` operator as above. For more details on\n",
    "Python strings and their companion sequence types, see\n",
    "[the Python documentation](https://docs.python.org/3/library/stdtypes.html#sequence-types-list-tuple-range).\n"
   ]
  }
 ],
 "metadata": {
  "hide_input": false,
  "kernelspec": {
   "display_name": "Python 3",
   "language": "python",
   "name": "python3"
  },
  "language_info": {
   "codemirror_mode": {
    "name": "ipython",
    "version": 3
   },
   "file_extension": ".py",
   "mimetype": "text/x-python",
   "name": "python",
   "nbconvert_exporter": "python",
   "pygments_lexer": "ipython3",
   "version": "3.6.8"
  },
  "toc": {
   "base_numbering": 1,
   "nav_menu": {},
   "number_sections": true,
   "sideBar": true,
   "skip_h1_title": false,
   "title_cell": "Table of Contents",
   "title_sidebar": "Contents",
   "toc_cell": false,
   "toc_position": {},
   "toc_section_display": true,
   "toc_window_display": false
  },
  "varInspector": {
   "cols": {
    "lenName": 16,
    "lenType": 16,
    "lenVar": 40
   },
   "kernels_config": {
    "python": {
     "delete_cmd_postfix": "",
     "delete_cmd_prefix": "del ",
     "library": "var_list.py",
     "varRefreshCmd": "print(var_dic_list())"
    },
    "r": {
     "delete_cmd_postfix": ") ",
     "delete_cmd_prefix": "rm(",
     "library": "var_list.r",
     "varRefreshCmd": "cat(var_dic_list()) "
    }
   },
   "types_to_exclude": [
    "module",
    "function",
    "builtin_function_or_method",
    "instance",
    "_Feature"
   ],
   "window_display": false
  }
 },
 "nbformat": 4,
 "nbformat_minor": 1
}
