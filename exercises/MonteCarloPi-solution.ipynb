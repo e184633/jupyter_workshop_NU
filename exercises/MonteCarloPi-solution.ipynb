{
 "cells": [
  {
   "cell_type": "markdown",
   "metadata": {},
   "source": [
    "# Simple generation of $\\pi$ via MonteCarlo integration.\n",
    "\n",
    "We compute $\\pi$ as the area of a unit circle, and we compute this area by\n",
    "integration:\n",
    "\n",
    "$$\n",
    "\\pi = 4\\int_0^1{\\sqrt{1-x^2}}\n",
    "$$\n",
    "\n",
    "This integral can be then done via MonteCarlo integration.\n",
    "\n",
    "Define a function that approximates this integral by averaging N random samples of the integrand.\n",
    "\n",
    "*Hint* use the math and random modules from the std library."
   ]
  },
  {
   "cell_type": "code",
   "execution_count": 1,
   "metadata": {
    "ExecuteTime": {
     "end_time": "2019-02-05T10:53:39.284276Z",
     "start_time": "2019-02-05T10:53:39.271185Z"
    }
   },
   "outputs": [],
   "source": [
    "import math\n",
    "import random\n",
    "\n",
    "\n",
    "def m_pi(n=100000):\n",
    "    \"\"\"Approximate pi via monte carlo integration\"\"\"\n",
    "    #     make the results reproducible\n",
    "    random.seed(100)\n",
    "    rand = random.random\n",
    "\n",
    "    sqrt = math.sqrt\n",
    "    sm = 0.0\n",
    "    for i in range(n):\n",
    "        sm += sqrt(1.0 - rand()**2)\n",
    "    return 4.0 * sm / n"
   ]
  },
  {
   "cell_type": "markdown",
   "metadata": {},
   "source": [
    "Print the results for the default sampling of N=100,000:"
   ]
  },
  {
   "cell_type": "code",
   "execution_count": 2,
   "metadata": {
    "ExecuteTime": {
     "end_time": "2019-02-05T10:53:39.331257Z",
     "start_time": "2019-02-05T10:53:39.289513Z"
    }
   },
   "outputs": [
    {
     "name": "stdout",
     "output_type": "stream",
     "text": [
      "π = 3.141592653589793\n",
      "π ~ 3.14293656094318\n",
      "relative error: 0.0427779 % \n"
     ]
    }
   ],
   "source": [
    "print('π =', math.pi)\n",
    "approx = m_pi()\n",
    "print('π ~', approx)\n",
    "print('relative error: %g %% ' % (100*abs((approx-math.pi)/math.pi)) )"
   ]
  }
 ],
 "metadata": {
  "kernelspec": {
   "display_name": "Python 3",
   "language": "python",
   "name": "python3"
  },
  "language_info": {
   "codemirror_mode": {
    "name": "ipython",
    "version": 3
   },
   "file_extension": ".py",
   "mimetype": "text/x-python",
   "name": "python",
   "nbconvert_exporter": "python",
   "pygments_lexer": "ipython3",
   "version": "3.6.6"
  },
  "toc": {
   "base_numbering": 1,
   "nav_menu": {},
   "number_sections": true,
   "sideBar": true,
   "skip_h1_title": false,
   "title_cell": "Table of Contents",
   "title_sidebar": "Contents",
   "toc_cell": false,
   "toc_position": {},
   "toc_section_display": true,
   "toc_window_display": false
  },
  "varInspector": {
   "cols": {
    "lenName": 16,
    "lenType": 16,
    "lenVar": 40
   },
   "kernels_config": {
    "python": {
     "delete_cmd_postfix": "",
     "delete_cmd_prefix": "del ",
     "library": "var_list.py",
     "varRefreshCmd": "print(var_dic_list())"
    },
    "r": {
     "delete_cmd_postfix": ") ",
     "delete_cmd_prefix": "rm(",
     "library": "var_list.r",
     "varRefreshCmd": "cat(var_dic_list()) "
    }
   },
   "types_to_exclude": [
    "module",
    "function",
    "builtin_function_or_method",
    "instance",
    "_Feature"
   ],
   "window_display": false
  }
 },
 "nbformat": 4,
 "nbformat_minor": 1
}
