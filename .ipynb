{
 "cells": [
  {
   "cell_type": "markdown",
   "metadata": {
    "slideshow": {
     "slide_type": "slide"
    }
   },
   "source": [
    "## Introducing the Notebook\n",
    "\n",
    "* [Notebook basics](NotebookBasics.ipynb)\n",
    "* [Running code](RunningCode.ipynb)\n",
    "* [Working with Markdown cells](WorkingWithMarkdownCells.ipynb)\n",
    "* Extra: [Typesetting equations](TypesettingEquations.ipynb)\n",
    "\n",
    "### Exercises\n",
    "\n",
    "* [Counting words](exercises/WordFrequencies.ipynb)\n",
    "* Extra: [Monte Carlo integration of pi](exercises/MonteCarloPi.ipynb)\n",
    "\n",
    "<div class=\"alert alert-info\">If you're stuck on any exercise, you can see the solution by changing the URL to `...-solution.ipynb`</div>"
   ]
  },
  {
   "cell_type": "markdown",
   "metadata": {
    "slideshow": {
     "slide_type": "slide"
    }
   },
   "source": [
    "## IPython - beyond plain Python\n",
    "\n",
    "* [Beyond plain Python](BeyondPlainPython.ipynb)\n",
    "\n",
    "## Rich output display\n",
    "\n",
    "* [Rich output](RichOutput.ipynb)\n",
    "* Extra: [Custom display logic](CustomDisplayLogic.ipynb)\n",
    "* Extra: [Updating displays](UpdatingDisplays.ipynb)\n",
    "\n",
    "### Exercises\n",
    "\n",
    "* [Wallis' formula for pi](exercises/Wallis-Pi.ipynb)\n",
    "* Extra: [Removing noise from an image using Fourier transforms](exercises/fourier_moon_denoise.ipynb)\n",
    "\n"
   ]
  },
  {
   "cell_type": "markdown",
   "metadata": {
    "slideshow": {
     "slide_type": "slide"
    }
   },
   "source": [
    "## Interactive widgets in notebook output\n",
    "\n",
    "* [Using `interact`](UsingInteract.ipynb)\n",
    "* Extra: [Available widgets](WidgetList.ipynb)\n",
    "* Extra: [Widget basics](WidgetBasics.ipynb)\n",
    "* Extra: [Widget events](WidgetEvents.ipynb)\n",
    "\n",
    "### Exercises\n",
    "\n",
    "* [`interact` basics](exercises/InteractBasics.ipynb)\n",
    "* Extra: [Comparing images](exercises/ImageCompare.ipynb)"
   ]
  },
  {
   "cell_type": "markdown",
   "metadata": {
    "heading_collapsed": true,
    "slideshow": {
     "slide_type": "slide"
    }
   },
   "source": [
    "## Notebook files and nbconvert\n",
    "\n",
    "* [Notebook file format](Notebookfileformat.ipynb)\n",
    "* [Nbconvert: convert notebooks to other formats](UsingNbconvert.ipynb)\n",
    "* [Nbval: Check that notebooks run correctly](nbval.ipynb)\n",
    "\n",
    "* Extra: [Nbconvert custom templates](nbconvert_templates/Nbconverttemplates.ipynb)\n",
    "\n"
   ]
  },
  {
   "cell_type": "markdown",
   "metadata": {
    "slideshow": {
     "slide_type": "slide"
    }
   },
   "source": [
    "## Sharing notebooks with Github, Nbviewer and Binder\n",
    "\n",
    "* [Nbviewer: Sharing notebooks on the web](Nbviewer.ipynb)\n",
    "* [mybinder.org](https://mybinder.org/)\n",
    "  * [Example Binder repository with LIGO data](https://github.com/minrk/ligo-binder/)\n",
    "  * [Binder documentation](http://mybinder.readthedocs.io/en/latest/index.html)\n",
    "* Extra: [Nbdime: notebooks in version control](nbdime.ipynb)"
   ]
  }
 ],
 "metadata": {
  "celltoolbar": "Slideshow",
  "hide_input": false,
  "kernelspec": {
   "display_name": "Python 3",
   "language": "python",
   "name": "python3"
  },
  "language_info": {
   "codemirror_mode": {
    "name": "ipython",
    "version": 3
   },
   "file_extension": ".py",
   "mimetype": "text/x-python",
   "name": "python",
   "nbconvert_exporter": "python",
   "pygments_lexer": "ipython3",
   "version": "3.6.8"
  },
  "toc": {
   "base_numbering": 1,
   "nav_menu": {},
   "number_sections": true,
   "sideBar": true,
   "skip_h1_title": false,
   "title_cell": "Table of Contents",
   "title_sidebar": "Contents",
   "toc_cell": false,
   "toc_position": {},
   "toc_section_display": true,
   "toc_window_display": false
  },
  "varInspector": {
   "cols": {
    "lenName": 16,
    "lenType": 16,
    "lenVar": 40
   },
   "kernels_config": {
    "python": {
     "delete_cmd_postfix": "",
     "delete_cmd_prefix": "del ",
     "library": "var_list.py",
     "varRefreshCmd": "print(var_dic_list())"
    },
    "r": {
     "delete_cmd_postfix": ") ",
     "delete_cmd_prefix": "rm(",
     "library": "var_list.r",
     "varRefreshCmd": "cat(var_dic_list()) "
    }
   },
   "types_to_exclude": [
    "module",
    "function",
    "builtin_function_or_method",
    "instance",
    "_Feature"
   ],
   "window_display": false
  }
 },
 "nbformat": 4,
 "nbformat_minor": 2
}
